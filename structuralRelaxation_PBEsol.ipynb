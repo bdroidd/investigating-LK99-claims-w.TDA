{
 "cells": [
  {
   "cell_type": "markdown",
   "id": "78589695",
   "metadata": {},
   "source": [
    "The program loads the LK-99 crystallographic information file and reads it to determine the initial atomic positions and lattice parameters for relation. Then, Quantum ESPRESSO-friendly input is generated for the relaxation process, where a 4x4x4 k-point grid is created for Brillouin zone sampling and the Methfessel-Paxton smearing method is applied to minimize smearing method is applied to minimize artificial entropy effects. Running pw.x (from the QE main DFT engine) relaxes atomic positions and cell volume. This convergence calculation is verified and the result is displayed to the user, followed by a final relaxed structure, in an interactive 3D viewer."
   ]
  },
  {
   "cell_type": "code",
   "execution_count": null,
   "id": "c2194211",
   "metadata": {
    "vscode": {
     "languageId": "plaintext"
    }
   },
   "outputs": [],
   "source": [
    "from pymatgen.core import Structure \n",
    "from pymatgen.io.espresso import PWInput, QEOutput\n",
    "import pymatviz as pmv\n",
    "from IPython.display import FileLink, display\n",
    "import os"
   ]
  },
  {
   "cell_type": "code",
   "execution_count": null,
   "id": "aed0ab9d",
   "metadata": {
    "vscode": {
     "languageId": "plaintext"
    }
   },
   "outputs": [],
   "source": [
    "# loads the LK-99 CIF \n",
    "\n",
    "structure = Structure.from_file(\"LK-99.cif\") \n",
    "\n",
    "# generates QE input for PBEsol relaxation \n",
    "\n",
    "input_pbesol = PWInput(\n",
    "\n",
    "structure, \n",
    " \n",
    "    pseudopotentials = \n",
    "    \n",
    "    {   \"Pb\": \"Pb.pbesol-dn-kjpaw_psl.0.2.2.UPF\", \n",
    "        \"Cu\": \"Cu.paw.z_11.ld1.psl.v1.0.0-low.upf\", \n",
    "        \"P\": \"P.pbesol-n-rrkjus_psl.1.0.0.UPF\", \n",
    "        \"O\": \"O.pbesol-n-kjpaw_psl.0.1.UPF\",\n",
    "    }, \n",
    "\n",
    "    control = \n",
    "\n",
    "    {\n",
    "        \"calculation\": \"relax\", \n",
    "        \"tprnfor\": True, \n",
    "        \"tstress\": True\n",
    "    }, \n",
    "\n",
    "    system = \n",
    "    \n",
    "    {\n",
    "        \"ecutwfc\": 60, \n",
    "        \"ecutrho\": 480, \n",
    "        \"input_dft\": \"PBEsol\", \n",
    "        \"occupations\": \"smearing\", \n",
    "        \"smearing\": \"mp\",  \n",
    "        \"degauss\": 0.02, \n",
    "    }, \n",
    "\n",
    "    kpoints_mode = \"automatic\",  \n",
    "    kpts=(4, 4, 4)\n",
    ") \n",
    "    \n",
    "input_pbesol.write_file(\"relax_pbesol.in\") "
   ]
  },
  {
   "cell_type": "code",
   "execution_count": null,
   "id": "8de795ca",
   "metadata": {
    "vscode": {
     "languageId": "plaintext"
    }
   },
   "outputs": [],
   "source": [
    "# runs Quantum ESPRESSO (where pw.x is in the PATH)\n",
    "\n",
    "exit_code = os.system(\"mpirun -np 4 pw.x -in relax_pbesol.in > relax_pbesol.out\")\n",
    "\n",
    "# verifies completion\n",
    "\n",
    "if \"JOB DONE\" in open(\"relax_pbesol.out\").read(): \n",
    "    print(\"Relaxation worked!\")\n",
    "\n",
    "    # displays link to download output\n",
    "\n",
    "    display(FileLink(\"relax_pbesol.out\"))\n",
    "\n",
    "else:\n",
    "    print(\"Relaxation failed. Check relax_pbesol.out.\")"
   ]
  },
  {
   "cell_type": "code",
   "execution_count": null,
   "id": "2dcc667f",
   "metadata": {
    "vscode": {
     "languageId": "plaintext"
    }
   },
   "outputs": [],
   "source": [
    "# visualizes structure // change for pymatviz \n",
    "\n",
    "qe_out = # QE output, relax_pbesol.out\n",
    "final_structure = # sets QE output to final_structure\n",
    "    \n",
    "# plots final_structure "
   ]
  }
 ],
 "metadata": {
  "language_info": {
   "name": "python"
  }
 },
 "nbformat": 4,
 "nbformat_minor": 5
}
